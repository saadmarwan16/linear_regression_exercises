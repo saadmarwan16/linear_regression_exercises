{
  "nbformat": 4,
  "nbformat_minor": 0,
  "metadata": {
    "colab": {
      "name": "all_greens_franchise.ipynb",
      "provenance": [],
      "authorship_tag": "ABX9TyMwkF2AncqQ+61wtWLI9Nhn",
      "include_colab_link": true
    },
    "kernelspec": {
      "name": "python3",
      "display_name": "Python 3"
    },
    "language_info": {
      "name": "python"
    }
  },
  "cells": [
    {
      "cell_type": "markdown",
      "metadata": {
        "id": "view-in-github",
        "colab_type": "text"
      },
      "source": [
        "<a href=\"https://colab.research.google.com/github/saadmarwan16/linear_regression_exercises/blob/main/all_greens_franchise.ipynb\" target=\"_parent\"><img src=\"https://colab.research.google.com/assets/colab-badge.svg\" alt=\"Open In Colab\"/></a>"
      ]
    },
    {
      "cell_type": "code",
      "metadata": {
        "id": "IfHHbjkYT8F5"
      },
      "source": [
        "# from google.colab import files\n",
        "# files.upload()"
      ],
      "execution_count": 1,
      "outputs": []
    },
    {
      "cell_type": "code",
      "metadata": {
        "id": "CQ4JaOhDUwrp"
      },
      "source": [
        "import numpy as np\n",
        "from pandas import read_excel\n",
        "import matplotlib.pyplot as plt"
      ],
      "execution_count": 2,
      "outputs": []
    },
    {
      "cell_type": "code",
      "metadata": {
        "colab": {
          "base_uri": "https://localhost:8080/"
        },
        "id": "12Bu-5yqVEvG",
        "outputId": "e7d52dcc-0000-4e95-8414-64216ded0635"
      },
      "source": [
        "df = read_excel('mlr05.xls')\n",
        "df.info()"
      ],
      "execution_count": 3,
      "outputs": [
        {
          "output_type": "stream",
          "text": [
            "<class 'pandas.core.frame.DataFrame'>\n",
            "RangeIndex: 27 entries, 0 to 26\n",
            "Data columns (total 6 columns):\n",
            " #   Column  Non-Null Count  Dtype  \n",
            "---  ------  --------------  -----  \n",
            " 0   X1      27 non-null     float64\n",
            " 1   X2      27 non-null     float64\n",
            " 2   X3      27 non-null     int64  \n",
            " 3   X4      27 non-null     float64\n",
            " 4   X5      27 non-null     float64\n",
            " 5   X6      27 non-null     int64  \n",
            "dtypes: float64(4), int64(2)\n",
            "memory usage: 1.4 KB\n"
          ],
          "name": "stdout"
        }
      ]
    },
    {
      "cell_type": "code",
      "metadata": {
        "colab": {
          "base_uri": "https://localhost:8080/",
          "height": 204
        },
        "id": "WsNLhugRVLRL",
        "outputId": "67698802-079c-418f-bb2f-55af457069e5"
      },
      "source": [
        "df.head()"
      ],
      "execution_count": 4,
      "outputs": [
        {
          "output_type": "execute_result",
          "data": {
            "text/html": [
              "<div>\n",
              "<style scoped>\n",
              "    .dataframe tbody tr th:only-of-type {\n",
              "        vertical-align: middle;\n",
              "    }\n",
              "\n",
              "    .dataframe tbody tr th {\n",
              "        vertical-align: top;\n",
              "    }\n",
              "\n",
              "    .dataframe thead th {\n",
              "        text-align: right;\n",
              "    }\n",
              "</style>\n",
              "<table border=\"1\" class=\"dataframe\">\n",
              "  <thead>\n",
              "    <tr style=\"text-align: right;\">\n",
              "      <th></th>\n",
              "      <th>X1</th>\n",
              "      <th>X2</th>\n",
              "      <th>X3</th>\n",
              "      <th>X4</th>\n",
              "      <th>X5</th>\n",
              "      <th>X6</th>\n",
              "    </tr>\n",
              "  </thead>\n",
              "  <tbody>\n",
              "    <tr>\n",
              "      <th>0</th>\n",
              "      <td>231.0</td>\n",
              "      <td>3.0</td>\n",
              "      <td>294</td>\n",
              "      <td>8.2</td>\n",
              "      <td>8.2</td>\n",
              "      <td>11</td>\n",
              "    </tr>\n",
              "    <tr>\n",
              "      <th>1</th>\n",
              "      <td>156.0</td>\n",
              "      <td>2.2</td>\n",
              "      <td>232</td>\n",
              "      <td>6.9</td>\n",
              "      <td>4.1</td>\n",
              "      <td>12</td>\n",
              "    </tr>\n",
              "    <tr>\n",
              "      <th>2</th>\n",
              "      <td>10.0</td>\n",
              "      <td>0.5</td>\n",
              "      <td>149</td>\n",
              "      <td>3.0</td>\n",
              "      <td>4.3</td>\n",
              "      <td>15</td>\n",
              "    </tr>\n",
              "    <tr>\n",
              "      <th>3</th>\n",
              "      <td>519.0</td>\n",
              "      <td>5.5</td>\n",
              "      <td>600</td>\n",
              "      <td>12.0</td>\n",
              "      <td>16.1</td>\n",
              "      <td>1</td>\n",
              "    </tr>\n",
              "    <tr>\n",
              "      <th>4</th>\n",
              "      <td>437.0</td>\n",
              "      <td>4.4</td>\n",
              "      <td>567</td>\n",
              "      <td>10.6</td>\n",
              "      <td>14.1</td>\n",
              "      <td>5</td>\n",
              "    </tr>\n",
              "  </tbody>\n",
              "</table>\n",
              "</div>"
            ],
            "text/plain": [
              "      X1   X2   X3    X4    X5  X6\n",
              "0  231.0  3.0  294   8.2   8.2  11\n",
              "1  156.0  2.2  232   6.9   4.1  12\n",
              "2   10.0  0.5  149   3.0   4.3  15\n",
              "3  519.0  5.5  600  12.0  16.1   1\n",
              "4  437.0  4.4  567  10.6  14.1   5"
            ]
          },
          "metadata": {
            "tags": []
          },
          "execution_count": 4
        }
      ]
    },
    {
      "cell_type": "code",
      "metadata": {
        "colab": {
          "base_uri": "https://localhost:8080/",
          "height": 235
        },
        "id": "0Gt2AvoMVU0S",
        "outputId": "ec266b1d-d2d3-4e80-9e18-3fbfd7197d3a"
      },
      "source": [
        "df.corr()"
      ],
      "execution_count": 5,
      "outputs": [
        {
          "output_type": "execute_result",
          "data": {
            "text/html": [
              "<div>\n",
              "<style scoped>\n",
              "    .dataframe tbody tr th:only-of-type {\n",
              "        vertical-align: middle;\n",
              "    }\n",
              "\n",
              "    .dataframe tbody tr th {\n",
              "        vertical-align: top;\n",
              "    }\n",
              "\n",
              "    .dataframe thead th {\n",
              "        text-align: right;\n",
              "    }\n",
              "</style>\n",
              "<table border=\"1\" class=\"dataframe\">\n",
              "  <thead>\n",
              "    <tr style=\"text-align: right;\">\n",
              "      <th></th>\n",
              "      <th>X1</th>\n",
              "      <th>X2</th>\n",
              "      <th>X3</th>\n",
              "      <th>X4</th>\n",
              "      <th>X5</th>\n",
              "      <th>X6</th>\n",
              "    </tr>\n",
              "  </thead>\n",
              "  <tbody>\n",
              "    <tr>\n",
              "      <th>X1</th>\n",
              "      <td>1.000000</td>\n",
              "      <td>0.894092</td>\n",
              "      <td>0.945504</td>\n",
              "      <td>0.914024</td>\n",
              "      <td>0.953683</td>\n",
              "      <td>-0.912236</td>\n",
              "    </tr>\n",
              "    <tr>\n",
              "      <th>X2</th>\n",
              "      <td>0.894092</td>\n",
              "      <td>1.000000</td>\n",
              "      <td>0.843616</td>\n",
              "      <td>0.748587</td>\n",
              "      <td>0.838023</td>\n",
              "      <td>-0.765738</td>\n",
              "    </tr>\n",
              "    <tr>\n",
              "      <th>X3</th>\n",
              "      <td>0.945504</td>\n",
              "      <td>0.843616</td>\n",
              "      <td>1.000000</td>\n",
              "      <td>0.906231</td>\n",
              "      <td>0.863917</td>\n",
              "      <td>-0.807380</td>\n",
              "    </tr>\n",
              "    <tr>\n",
              "      <th>X4</th>\n",
              "      <td>0.914024</td>\n",
              "      <td>0.748587</td>\n",
              "      <td>0.906231</td>\n",
              "      <td>1.000000</td>\n",
              "      <td>0.795434</td>\n",
              "      <td>-0.841280</td>\n",
              "    </tr>\n",
              "    <tr>\n",
              "      <th>X5</th>\n",
              "      <td>0.953683</td>\n",
              "      <td>0.838023</td>\n",
              "      <td>0.863917</td>\n",
              "      <td>0.795434</td>\n",
              "      <td>1.000000</td>\n",
              "      <td>-0.869590</td>\n",
              "    </tr>\n",
              "    <tr>\n",
              "      <th>X6</th>\n",
              "      <td>-0.912236</td>\n",
              "      <td>-0.765738</td>\n",
              "      <td>-0.807380</td>\n",
              "      <td>-0.841280</td>\n",
              "      <td>-0.869590</td>\n",
              "      <td>1.000000</td>\n",
              "    </tr>\n",
              "  </tbody>\n",
              "</table>\n",
              "</div>"
            ],
            "text/plain": [
              "          X1        X2        X3        X4        X5        X6\n",
              "X1  1.000000  0.894092  0.945504  0.914024  0.953683 -0.912236\n",
              "X2  0.894092  1.000000  0.843616  0.748587  0.838023 -0.765738\n",
              "X3  0.945504  0.843616  1.000000  0.906231  0.863917 -0.807380\n",
              "X4  0.914024  0.748587  0.906231  1.000000  0.795434 -0.841280\n",
              "X5  0.953683  0.838023  0.863917  0.795434  1.000000 -0.869590\n",
              "X6 -0.912236 -0.765738 -0.807380 -0.841280 -0.869590  1.000000"
            ]
          },
          "metadata": {
            "tags": []
          },
          "execution_count": 5
        }
      ]
    },
    {
      "cell_type": "code",
      "metadata": {
        "colab": {
          "base_uri": "https://localhost:8080/",
          "height": 265
        },
        "id": "4b3JL-UnVymS",
        "outputId": "61605911-6bb9-43e3-ffeb-2e75c0b61ed3"
      },
      "source": [
        "plt.scatter(df['X2'], df['X1']);"
      ],
      "execution_count": 6,
      "outputs": [
        {
          "output_type": "display_data",
          "data": {
            "image/png": "[encoded data removed]",
            "text/plain": [
              "<Figure size 432x288 with 1 Axes>"
            ]
          },
          "metadata": {
            "tags": [],
            "needs_background": "light"
          }
        }
      ]
    },
    {
      "cell_type": "code",
      "metadata": {
        "colab": {
          "base_uri": "https://localhost:8080/",
          "height": 265
        },
        "id": "IU4wUgAsWA-a",
        "outputId": "35032d45-247d-42fe-8713-cae784175f81"
      },
      "source": [
        "plt.scatter(df['X3'], df['X1']);"
      ],
      "execution_count": 7,
      "outputs": [
        {
          "output_type": "display_data",
          "data": {
            "image/png": "[encoded data removed]",
            "text/plain": [
              "<Figure size 432x288 with 1 Axes>"
            ]
          },
          "metadata": {
            "tags": [],
            "needs_background": "light"
          }
        }
      ]
    },
    {
      "cell_type": "code",
      "metadata": {
        "colab": {
          "base_uri": "https://localhost:8080/",
          "height": 265
        },
        "id": "d7RWVZUPWI2o",
        "outputId": "b4b26073-85cc-4590-cebe-bb1887f49794"
      },
      "source": [
        "plt.scatter(df['X4'], df['X1']);"
      ],
      "execution_count": 8,
      "outputs": [
        {
          "output_type": "display_data",
          "data": {
            "image/png": "[encoded data removed]",
            "text/plain": [
              "<Figure size 432x288 with 1 Axes>"
            ]
          },
          "metadata": {
            "tags": [],
            "needs_background": "light"
          }
        }
      ]
    },
    {
      "cell_type": "code",
      "metadata": {
        "colab": {
          "base_uri": "https://localhost:8080/",
          "height": 265
        },
        "id": "e0bWXzFgWOPS",
        "outputId": "e7fe8653-174a-41ce-81c9-1274af0c3df9"
      },
      "source": [
        "plt.scatter(df['X5'], df['X1']);"
      ],
      "execution_count": 9,
      "outputs": [
        {
          "output_type": "display_data",
          "data": {
            "image/png": "[encoded data removed]",
            "text/plain": [
              "<Figure size 432x288 with 1 Axes>"
            ]
          },
          "metadata": {
            "tags": [],
            "needs_background": "light"
          }
        }
      ]
    },
    {
      "cell_type": "code",
      "metadata": {
        "colab": {
          "base_uri": "https://localhost:8080/",
          "height": 265
        },
        "id": "AhGN0No2WT1I",
        "outputId": "53a640e0-5581-42d7-8990-0acf8b1dc8f7"
      },
      "source": [
        "plt.scatter(df['X6'], df['X1']);"
      ],
      "execution_count": 10,
      "outputs": [
        {
          "output_type": "display_data",
          "data": {
            "image/png": "[encoded data removed]",
            "text/plain": [
              "<Figure size 432x288 with 1 Axes>"
            ]
          },
          "metadata": {
            "tags": [],
            "needs_background": "light"
          }
        }
      ]
    },
    {
      "cell_type": "code",
      "metadata": {
        "id": "PUXBWIj1WYdC"
      },
      "source": [
        "X1 = df['X2']\n",
        "X2 = df['X3']\n",
        "X3 = df['X4']\n",
        "X4 = df['X5']\n",
        "X5 = df['X6']\n",
        "X = df[['X2', 'X3', 'X4', 'X5', 'X6']]\n",
        "Y = df['X1']"
      ],
      "execution_count": 11,
      "outputs": []
    },
    {
      "cell_type": "code",
      "metadata": {
        "id": "wnadO8q8WzrT"
      },
      "source": [
        "def fit(X, Y):\n",
        "    denominator = X.dot(X) - X.mean() * X.sum()\n",
        "    a = (X.dot(Y) - Y.mean() * X.sum()) / denominator\n",
        "    b = (Y.mean() * X.dot(X) - X.mean() * X.dot(Y)) / denominator\n",
        "\n",
        "    return a*X + b"
      ],
      "execution_count": 12,
      "outputs": []
    },
    {
      "cell_type": "code",
      "metadata": {
        "id": "M9V_tNjcYAcR"
      },
      "source": [
        "Y1_hat = fit(X1, Y)\n",
        "Y2_hat = fit(X2, Y)\n",
        "Y3_hat = fit(X3, Y)\n",
        "Y4_hat = fit(X4, Y)\n",
        "Y5_hat = fit(X5, Y)"
      ],
      "execution_count": 13,
      "outputs": []
    },
    {
      "cell_type": "code",
      "metadata": {
        "id": "TkzhsbquYOrh"
      },
      "source": [
        "def get_r2(Y, Yhat):\n",
        "    d1 = Y - Yhat\n",
        "    d2 = Y - Y.mean()\n",
        "\n",
        "    return 1 - d1.dot(d1) / d2.dot(d2)"
      ],
      "execution_count": 14,
      "outputs": []
    },
    {
      "cell_type": "code",
      "metadata": {
        "colab": {
          "base_uri": "https://localhost:8080/"
        },
        "id": "vr_RIlFtYwqv",
        "outputId": "76702437-9066-4c70-91ae-e1af8234af57"
      },
      "source": [
        "print(f\"The r_squared value of X1 is: {get_r2(Y, Y1_hat)}\")\n",
        "print(f\"The r_squared value of X2 is: {get_r2(Y, Y2_hat)}\")\n",
        "print(f\"The r_squared value of X3 is: {get_r2(Y, Y3_hat)}\")\n",
        "print(f\"The r_squared value of X4 is: {get_r2(Y, Y4_hat)}\")\n",
        "print(f\"The r_squared value of X5 is: {get_r2(Y, Y5_hat)}\")"
      ],
      "execution_count": 15,
      "outputs": [
        {
          "output_type": "stream",
          "text": [
            "The r_squared value of X1 is: 0.7994006489576572\n",
            "The r_squared value of X2 is: 0.8939771057885375\n",
            "The r_squared value of X3 is: 0.8354400089485228\n",
            "The r_squared value of X4 is: 0.9095113796061699\n",
            "The r_squared value of X5 is: 0.83217523508888\n"
          ],
          "name": "stdout"
        }
      ]
    },
    {
      "cell_type": "code",
      "metadata": {
        "id": "bUETMzzgY3wI"
      },
      "source": [
        "N = X.shape[0]\n",
        "ones = np.array([np.ones(N)])\n",
        "Xb = np.concatenate((ones.T, X), axis=1)"
      ],
      "execution_count": 16,
      "outputs": []
    },
    {
      "cell_type": "code",
      "metadata": {
        "id": "5kafqaOmZSjt"
      },
      "source": [
        "def fit_multi(Xb, Y):\n",
        "    return np.linalg.solve(Xb.T.dot(Xb), Xb.T.dot(Y))"
      ],
      "execution_count": 17,
      "outputs": []
    },
    {
      "cell_type": "code",
      "metadata": {
        "colab": {
          "base_uri": "https://localhost:8080/"
        },
        "id": "79LabFFtZfOu",
        "outputId": "14f79c0c-e19c-42a1-e0bc-ca1c3ef76d7d"
      },
      "source": [
        "w = fit_multi(Xb, Y)\n",
        "w"
      ],
      "execution_count": 18,
      "outputs": [
        {
          "output_type": "execute_result",
          "data": {
            "text/plain": [
              "array([-18.85941416,  16.20157356,   0.17463515,  11.52626903,\n",
              "        13.5803129 ,  -5.31097141])"
            ]
          },
          "metadata": {
            "tags": []
          },
          "execution_count": 18
        }
      ]
    },
    {
      "cell_type": "code",
      "metadata": {
        "id": "W3lnsMPia063"
      },
      "source": [
        "def get_multi_r2(Xb, Y, w):\n",
        "    Y_hat = Xb.dot(w)\n",
        "    d1 = Y - Y_hat\n",
        "    d2 = Y - Y.mean()\n",
        "\n",
        "    return 1 - d1.dot(d1) / d2.dot(d2)"
      ],
      "execution_count": 19,
      "outputs": []
    },
    {
      "cell_type": "code",
      "metadata": {
        "colab": {
          "base_uri": "https://localhost:8080/"
        },
        "id": "CggcVmfSbfPd",
        "outputId": "cbdb553f-b534-4551-f6c8-3b496ff257ba"
      },
      "source": [
        "print(f\"The overall r_squared value is: {get_multi_r2(Xb, Y, w)}\")"
      ],
      "execution_count": 20,
      "outputs": [
        {
          "output_type": "stream",
          "text": [
            "The overall r_squared value is: 0.9931794970765471\n"
          ],
          "name": "stdout"
        }
      ]
    },
    {
      "cell_type": "code",
      "metadata": {
        "id": "uP-5wfMJbpeA"
      },
      "source": [
        ""
      ],
      "execution_count": 20,
      "outputs": []
    }
  ]
}