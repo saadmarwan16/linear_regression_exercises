{
  "nbformat": 4,
  "nbformat_minor": 0,
  "metadata": {
    "colab": {
      "name": "test_scores.ipynb",
      "provenance": [],
      "collapsed_sections": [],
      "authorship_tag": "ABX9TyOdnbPN/LB9GJM3NU6hcZEV",
      "include_colab_link": true
    },
    "kernelspec": {
      "name": "python3",
      "display_name": "Python 3"
    },
    "language_info": {
      "name": "python"
    }
  },
  "cells": [
    {
      "cell_type": "markdown",
      "metadata": {
        "id": "view-in-github",
        "colab_type": "text"
      },
      "source": [
        "<a href=\"https://colab.research.google.com/github/saadmarwan16/linear_regression_exercises/blob/main/test_scores.ipynb\" target=\"_parent\"><img src=\"https://colab.research.google.com/assets/colab-badge.svg\" alt=\"Open In Colab\"/></a>"
      ]
    },
    {
      "cell_type": "code",
      "metadata": {
        "id": "oEIqIhTGl6XU"
      },
      "source": [
        "# from google.colab import files\n",
        "# files.upload()"
      ],
      "execution_count": 1,
      "outputs": []
    },
    {
      "cell_type": "code",
      "metadata": {
        "id": "4siLCO6omA1I"
      },
      "source": [
        "import numpy as np\n",
        "import pandas as pd\n",
        "from sklearn.model_selection import train_test_split\n",
        "import matplotlib.pyplot as plt"
      ],
      "execution_count": 2,
      "outputs": []
    },
    {
      "cell_type": "code",
      "metadata": {
        "colab": {
          "base_uri": "https://localhost:8080/",
          "height": 221
        },
        "id": "vQE835YJmUQH",
        "outputId": "7e516aa9-4ca8-491b-eaf8-d8667f81e14c"
      },
      "source": [
        "df = pd.read_excel('mlr03.xls')\n",
        "df.head()"
      ],
      "execution_count": 3,
      "outputs": [
        {
          "output_type": "stream",
          "text": [
            "*** No CODEPAGE record, no encoding_override: will use 'ascii'\n"
          ],
          "name": "stdout"
        },
        {
          "output_type": "execute_result",
          "data": {
            "text/html": [
              "<div>\n",
              "<style scoped>\n",
              "    .dataframe tbody tr th:only-of-type {\n",
              "        vertical-align: middle;\n",
              "    }\n",
              "\n",
              "    .dataframe tbody tr th {\n",
              "        vertical-align: top;\n",
              "    }\n",
              "\n",
              "    .dataframe thead th {\n",
              "        text-align: right;\n",
              "    }\n",
              "</style>\n",
              "<table border=\"1\" class=\"dataframe\">\n",
              "  <thead>\n",
              "    <tr style=\"text-align: right;\">\n",
              "      <th></th>\n",
              "      <th>EXAM1</th>\n",
              "      <th>EXAM2</th>\n",
              "      <th>EXAM3</th>\n",
              "      <th>FINAL</th>\n",
              "    </tr>\n",
              "  </thead>\n",
              "  <tbody>\n",
              "    <tr>\n",
              "      <th>0</th>\n",
              "      <td>73</td>\n",
              "      <td>80</td>\n",
              "      <td>75</td>\n",
              "      <td>152</td>\n",
              "    </tr>\n",
              "    <tr>\n",
              "      <th>1</th>\n",
              "      <td>93</td>\n",
              "      <td>88</td>\n",
              "      <td>93</td>\n",
              "      <td>185</td>\n",
              "    </tr>\n",
              "    <tr>\n",
              "      <th>2</th>\n",
              "      <td>89</td>\n",
              "      <td>91</td>\n",
              "      <td>90</td>\n",
              "      <td>180</td>\n",
              "    </tr>\n",
              "    <tr>\n",
              "      <th>3</th>\n",
              "      <td>96</td>\n",
              "      <td>98</td>\n",
              "      <td>100</td>\n",
              "      <td>196</td>\n",
              "    </tr>\n",
              "    <tr>\n",
              "      <th>4</th>\n",
              "      <td>73</td>\n",
              "      <td>66</td>\n",
              "      <td>70</td>\n",
              "      <td>142</td>\n",
              "    </tr>\n",
              "  </tbody>\n",
              "</table>\n",
              "</div>"
            ],
            "text/plain": [
              "   EXAM1  EXAM2  EXAM3  FINAL\n",
              "0     73     80     75    152\n",
              "1     93     88     93    185\n",
              "2     89     91     90    180\n",
              "3     96     98    100    196\n",
              "4     73     66     70    142"
            ]
          },
          "metadata": {
            "tags": []
          },
          "execution_count": 3
        }
      ]
    },
    {
      "cell_type": "code",
      "metadata": {
        "colab": {
          "base_uri": "https://localhost:8080/"
        },
        "id": "EAVtVkqumZZX",
        "outputId": "4c9a95ef-9c0d-4a8e-d6ea-b2c935abf9bd"
      },
      "source": [
        "df.info()"
      ],
      "execution_count": 4,
      "outputs": [
        {
          "output_type": "stream",
          "text": [
            "<class 'pandas.core.frame.DataFrame'>\n",
            "RangeIndex: 25 entries, 0 to 24\n",
            "Data columns (total 4 columns):\n",
            " #   Column  Non-Null Count  Dtype\n",
            "---  ------  --------------  -----\n",
            " 0   EXAM1   25 non-null     int64\n",
            " 1   EXAM2   25 non-null     int64\n",
            " 2   EXAM3   25 non-null     int64\n",
            " 3   FINAL   25 non-null     int64\n",
            "dtypes: int64(4)\n",
            "memory usage: 928.0 bytes\n"
          ],
          "name": "stdout"
        }
      ]
    },
    {
      "cell_type": "code",
      "metadata": {
        "colab": {
          "base_uri": "https://localhost:8080/",
          "height": 173
        },
        "id": "vJvKMUIdnvWO",
        "outputId": "da6d77df-5e50-4bbc-ccec-b26874bf372a"
      },
      "source": [
        "df.corr()"
      ],
      "execution_count": 5,
      "outputs": [
        {
          "output_type": "execute_result",
          "data": {
            "text/html": [
              "<div>\n",
              "<style scoped>\n",
              "    .dataframe tbody tr th:only-of-type {\n",
              "        vertical-align: middle;\n",
              "    }\n",
              "\n",
              "    .dataframe tbody tr th {\n",
              "        vertical-align: top;\n",
              "    }\n",
              "\n",
              "    .dataframe thead th {\n",
              "        text-align: right;\n",
              "    }\n",
              "</style>\n",
              "<table border=\"1\" class=\"dataframe\">\n",
              "  <thead>\n",
              "    <tr style=\"text-align: right;\">\n",
              "      <th></th>\n",
              "      <th>EXAM1</th>\n",
              "      <th>EXAM2</th>\n",
              "      <th>EXAM3</th>\n",
              "      <th>FINAL</th>\n",
              "    </tr>\n",
              "  </thead>\n",
              "  <tbody>\n",
              "    <tr>\n",
              "      <th>EXAM1</th>\n",
              "      <td>1.000000</td>\n",
              "      <td>0.901363</td>\n",
              "      <td>0.892743</td>\n",
              "      <td>0.946071</td>\n",
              "    </tr>\n",
              "    <tr>\n",
              "      <th>EXAM2</th>\n",
              "      <td>0.901363</td>\n",
              "      <td>1.000000</td>\n",
              "      <td>0.846359</td>\n",
              "      <td>0.929471</td>\n",
              "    </tr>\n",
              "    <tr>\n",
              "      <th>EXAM3</th>\n",
              "      <td>0.892743</td>\n",
              "      <td>0.846359</td>\n",
              "      <td>1.000000</td>\n",
              "      <td>0.972328</td>\n",
              "    </tr>\n",
              "    <tr>\n",
              "      <th>FINAL</th>\n",
              "      <td>0.946071</td>\n",
              "      <td>0.929471</td>\n",
              "      <td>0.972328</td>\n",
              "      <td>1.000000</td>\n",
              "    </tr>\n",
              "  </tbody>\n",
              "</table>\n",
              "</div>"
            ],
            "text/plain": [
              "          EXAM1     EXAM2     EXAM3     FINAL\n",
              "EXAM1  1.000000  0.901363  0.892743  0.946071\n",
              "EXAM2  0.901363  1.000000  0.846359  0.929471\n",
              "EXAM3  0.892743  0.846359  1.000000  0.972328\n",
              "FINAL  0.946071  0.929471  0.972328  1.000000"
            ]
          },
          "metadata": {
            "tags": []
          },
          "execution_count": 5
        }
      ]
    },
    {
      "cell_type": "code",
      "metadata": {
        "id": "ubNdqDN4n30T"
      },
      "source": [
        "X = df[['EXAM1', 'EXAM2', 'EXAM3']]\n",
        "X1 = df['EXAM1']\n",
        "X2 = df['EXAM2']\n",
        "X3 = df['EXAM3']\n",
        "Y = df['FINAL']"
      ],
      "execution_count": 6,
      "outputs": []
    },
    {
      "cell_type": "code",
      "metadata": {
        "colab": {
          "base_uri": "https://localhost:8080/",
          "height": 268
        },
        "id": "oJXdw3iloGlq",
        "outputId": "04c86090-b60a-499c-9a4e-03ed1afc2ac6"
      },
      "source": [
        "plt.scatter(X1, Y);"
      ],
      "execution_count": 7,
      "outputs": [
        {
          "output_type": "display_data",
          "data": {
            "image/png": "[encoded data removed]",
            "text/plain": [
              "<Figure size 432x288 with 1 Axes>"
            ]
          },
          "metadata": {
            "tags": [],
            "needs_background": "light"
          }
        }
      ]
    },
    {
      "cell_type": "code",
      "metadata": {
        "colab": {
          "base_uri": "https://localhost:8080/",
          "height": 268
        },
        "id": "u0ewyR0cos-P",
        "outputId": "0ce9253d-00bc-46c3-e0f2-54b219c84c96"
      },
      "source": [
        "plt.scatter(X2, Y);"
      ],
      "execution_count": 8,
      "outputs": [
        {
          "output_type": "display_data",
          "data": {
            "image/png": "[encoded data removed]",
            "text/plain": [
              "<Figure size 432x288 with 1 Axes>"
            ]
          },
          "metadata": {
            "tags": [],
            "needs_background": "light"
          }
        }
      ]
    },
    {
      "cell_type": "code",
      "metadata": {
        "colab": {
          "base_uri": "https://localhost:8080/",
          "height": 268
        },
        "id": "xcHz-RNkowkO",
        "outputId": "82b44253-1b13-4115-da87-af05f23d9ac4"
      },
      "source": [
        "plt.scatter(X3, Y);"
      ],
      "execution_count": 9,
      "outputs": [
        {
          "output_type": "display_data",
          "data": {
            "image/png": "[encoded data removed]",
            "text/plain": [
              "<Figure size 432x288 with 1 Axes>"
            ]
          },
          "metadata": {
            "tags": [],
            "needs_background": "light"
          }
        }
      ]
    },
    {
      "cell_type": "code",
      "metadata": {
        "id": "kb-4spZwozQw"
      },
      "source": [
        "def fit(X, Y):\n",
        "    denominator = X.dot(X) - X.mean() * X.sum()\n",
        "    a = (X.dot(Y) - Y.mean() * X.sum()) / denominator\n",
        "    b = (Y.mean() * X.dot(X) - X.mean() * X.dot(Y)) / denominator\n",
        "    \n",
        "    return a*X + b"
      ],
      "execution_count": 10,
      "outputs": []
    },
    {
      "cell_type": "code",
      "metadata": {
        "id": "DR9hpmnhp8RH"
      },
      "source": [
        "def get_r2(X, Y):\n",
        "    Y_hat = fit(X, Y)\n",
        "    d1 = Y - Y_hat\n",
        "    d2 = Y - Y.mean()\n",
        "    \n",
        "    return 1 - d1.dot(d1) / d2.dot(d2)"
      ],
      "execution_count": 11,
      "outputs": []
    },
    {
      "cell_type": "code",
      "metadata": {
        "colab": {
          "base_uri": "https://localhost:8080/",
          "height": 268
        },
        "id": "RIgxSCleuFBb",
        "outputId": "f8dbd114-3774-4711-de08-e12be24446ce"
      },
      "source": [
        "Y1_hat = fit(X1, Y)\n",
        "plt.scatter(X1, Y)\n",
        "plt.plot(X1, Y1_hat);"
      ],
      "execution_count": 12,
      "outputs": [
        {
          "output_type": "display_data",
          "data": {
            "image/png": "[encoded data removed]",
            "text/plain": [
              "<Figure size 432x288 with 1 Axes>"
            ]
          },
          "metadata": {
            "tags": [],
            "needs_background": "light"
          }
        }
      ]
    },
    {
      "cell_type": "code",
      "metadata": {
        "colab": {
          "base_uri": "https://localhost:8080/",
          "height": 268
        },
        "id": "iMcb0XJCuV1C",
        "outputId": "ea2a08ed-8f4b-4c6f-85f4-87ab0a468611"
      },
      "source": [
        "Y2_hat = fit(X2, Y)\n",
        "plt.scatter(X2, Y)\n",
        "plt.plot(X2, Y2_hat);"
      ],
      "execution_count": 13,
      "outputs": [
        {
          "output_type": "display_data",
          "data": {
            "image/png": "[encoded data removed]",
            "text/plain": [
              "<Figure size 432x288 with 1 Axes>"
            ]
          },
          "metadata": {
            "tags": [],
            "needs_background": "light"
          }
        }
      ]
    },
    {
      "cell_type": "code",
      "metadata": {
        "colab": {
          "base_uri": "https://localhost:8080/",
          "height": 265
        },
        "id": "pDuWuQm5ukjT",
        "outputId": "4971070e-1471-4540-e339-bdfd8024c198"
      },
      "source": [
        "Y3_hat = fit(X3, Y)\n",
        "plt.scatter(X3, Y)\n",
        "plt.plot(X3, Y3_hat);"
      ],
      "execution_count": 14,
      "outputs": [
        {
          "output_type": "display_data",
          "data": {
            "image/png": "[encoded data removed]",
            "text/plain": [
              "<Figure size 432x288 with 1 Axes>"
            ]
          },
          "metadata": {
            "tags": [],
            "needs_background": "light"
          }
        }
      ]
    },
    {
      "cell_type": "code",
      "metadata": {
        "id": "HjOQbY8aqboz",
        "colab": {
          "base_uri": "https://localhost:8080/"
        },
        "outputId": "2fdc882e-a5d3-44f9-ef7d-bbd3bcc0caf9"
      },
      "source": [
        "print(f\"The value of r_squared for X1 is: {get_r2(X1, Y)}\")\n",
        "print(f\"The value of r_squared for X2 is: {get_r2(X2, Y)}\")\n",
        "print(f\"The value of r_squared for X3 is: {get_r2(X3, Y)}\")"
      ],
      "execution_count": 15,
      "outputs": [
        {
          "output_type": "stream",
          "text": [
            "The value of r_squared for X1 is: 0.8950500188020498\n",
            "The value of r_squared for X2 is: 0.8639171580561357\n",
            "The value of r_squared for X3 is: 0.9454207808340621\n"
          ],
          "name": "stdout"
        }
      ]
    },
    {
      "cell_type": "code",
      "metadata": {
        "id": "zzwitxufvceK"
      },
      "source": [
        "def fit_multiple(df, X_raw, Y):\n",
        "    X = list()\n",
        "    ones = np.array([1]*X_raw.shape[0])\n",
        "\n",
        "    X.append(ones)\n",
        "    X.append(df['EXAM1'].values)\n",
        "    X.append(df['EXAM2'].values)\n",
        "    X.append(df['EXAM3'].values)\n",
        "\n",
        "    X = np.vstack(X).T\n",
        "\n",
        "    X_train, X_test, y_train, y_test = train_test_split(X, Y, test_size=0.4, random_state=42)\n",
        "\n",
        "    return (np.linalg.solve(X_train.T.dot(X_train), X_train.T.dot(y_train)), X_test, y_test)"
      ],
      "execution_count": 16,
      "outputs": []
    },
    {
      "cell_type": "code",
      "metadata": {
        "id": "kWv3_FMYwgbZ"
      },
      "source": [
        "def get_multiple_r2(df, X, Y):\n",
        "    w, X_test, y_test = fit_multiple(df, X, Y)\n",
        "\n",
        "    Y_hat = X_test.dot(w)\n",
        "\n",
        "    d1 = y_test - Y_hat\n",
        "    d2 = y_test - Y.mean()\n",
        "\n",
        "    return 1 - d1.dot(d1) / d2.dot(d2)"
      ],
      "execution_count": 17,
      "outputs": []
    },
    {
      "cell_type": "code",
      "metadata": {
        "colab": {
          "base_uri": "https://localhost:8080/"
        },
        "id": "D16Rgbls0qsW",
        "outputId": "53cd93c3-83e8-4223-8e01-314745e44e20"
      },
      "source": [
        "print(f\"The r_squared value for X1, X2 and X3 is: {get_multiple_r2(df, X, Y)}\")"
      ],
      "execution_count": 18,
      "outputs": [
        {
          "output_type": "stream",
          "text": [
            "The r_squared value for X1, X2 and X3 is: 0.9794395814278744\n"
          ],
          "name": "stdout"
        }
      ]
    },
    {
      "cell_type": "code",
      "metadata": {
        "id": "o74YyNUA4sww"
      },
      "source": [
        ""
      ],
      "execution_count": 18,
      "outputs": []
    }
  ]
}