{
  "nbformat": 4,
  "nbformat_minor": 0,
  "metadata": {
    "colab": {
      "name": "antelope_study.ipynb",
      "provenance": [],
      "authorship_tag": "ABX9TyPZrkmeZolFv3zDHB+gZ65F",
      "include_colab_link": true
    },
    "kernelspec": {
      "name": "python3",
      "display_name": "Python 3"
    },
    "language_info": {
      "name": "python"
    }
  },
  "cells": [
    {
      "cell_type": "markdown",
      "metadata": {
        "id": "view-in-github",
        "colab_type": "text"
      },
      "source": [
        "<a href=\"https://colab.research.google.com/github/saadmarwan16/linear_regression_exercises/blob/main/antelope_study.ipynb\" target=\"_parent\"><img src=\"https://colab.research.google.com/assets/colab-badge.svg\" alt=\"Open In Colab\"/></a>"
      ]
    },
    {
      "cell_type": "code",
      "metadata": {
        "id": "3wgl5YfsOnmd"
      },
      "source": [
        "# from google.colab import files\n",
        "# files.upload()"
      ],
      "execution_count": 1,
      "outputs": []
    },
    {
      "cell_type": "code",
      "metadata": {
        "id": "0rT401wfPAYn"
      },
      "source": [
        "import numpy as np\n",
        "from pandas import read_excel\n",
        "import matplotlib.pyplot as plt"
      ],
      "execution_count": 2,
      "outputs": []
    },
    {
      "cell_type": "code",
      "metadata": {
        "colab": {
          "base_uri": "https://localhost:8080/"
        },
        "id": "R-2j5tjFPSYL",
        "outputId": "cdd9b45b-010c-4810-ccd2-befa2f3235a2"
      },
      "source": [
        "df = read_excel('mlr01.xls')\n",
        "df.info()"
      ],
      "execution_count": 3,
      "outputs": [
        {
          "output_type": "stream",
          "text": [
            "<class 'pandas.core.frame.DataFrame'>\n",
            "RangeIndex: 8 entries, 0 to 7\n",
            "Data columns (total 4 columns):\n",
            " #   Column  Non-Null Count  Dtype  \n",
            "---  ------  --------------  -----  \n",
            " 0   X1      8 non-null      float64\n",
            " 1   X2      8 non-null      float64\n",
            " 2   X3      8 non-null      float64\n",
            " 3   X4      8 non-null      int64  \n",
            "dtypes: float64(3), int64(1)\n",
            "memory usage: 384.0 bytes\n"
          ],
          "name": "stdout"
        }
      ]
    },
    {
      "cell_type": "code",
      "metadata": {
        "colab": {
          "base_uri": "https://localhost:8080/",
          "height": 297
        },
        "id": "KY0uRU-hPe3c",
        "outputId": "94d99cfd-5ac3-40da-9655-c25f3e49ca7c"
      },
      "source": [
        "df.head(8)"
      ],
      "execution_count": 4,
      "outputs": [
        {
          "output_type": "execute_result",
          "data": {
            "text/html": [
              "<div>\n",
              "<style scoped>\n",
              "    .dataframe tbody tr th:only-of-type {\n",
              "        vertical-align: middle;\n",
              "    }\n",
              "\n",
              "    .dataframe tbody tr th {\n",
              "        vertical-align: top;\n",
              "    }\n",
              "\n",
              "    .dataframe thead th {\n",
              "        text-align: right;\n",
              "    }\n",
              "</style>\n",
              "<table border=\"1\" class=\"dataframe\">\n",
              "  <thead>\n",
              "    <tr style=\"text-align: right;\">\n",
              "      <th></th>\n",
              "      <th>X1</th>\n",
              "      <th>X2</th>\n",
              "      <th>X3</th>\n",
              "      <th>X4</th>\n",
              "    </tr>\n",
              "  </thead>\n",
              "  <tbody>\n",
              "    <tr>\n",
              "      <th>0</th>\n",
              "      <td>2.9</td>\n",
              "      <td>9.2</td>\n",
              "      <td>13.2</td>\n",
              "      <td>2</td>\n",
              "    </tr>\n",
              "    <tr>\n",
              "      <th>1</th>\n",
              "      <td>2.4</td>\n",
              "      <td>8.7</td>\n",
              "      <td>11.5</td>\n",
              "      <td>3</td>\n",
              "    </tr>\n",
              "    <tr>\n",
              "      <th>2</th>\n",
              "      <td>2.0</td>\n",
              "      <td>7.2</td>\n",
              "      <td>10.8</td>\n",
              "      <td>4</td>\n",
              "    </tr>\n",
              "    <tr>\n",
              "      <th>3</th>\n",
              "      <td>2.3</td>\n",
              "      <td>8.5</td>\n",
              "      <td>12.3</td>\n",
              "      <td>2</td>\n",
              "    </tr>\n",
              "    <tr>\n",
              "      <th>4</th>\n",
              "      <td>3.2</td>\n",
              "      <td>9.6</td>\n",
              "      <td>12.6</td>\n",
              "      <td>3</td>\n",
              "    </tr>\n",
              "    <tr>\n",
              "      <th>5</th>\n",
              "      <td>1.9</td>\n",
              "      <td>6.8</td>\n",
              "      <td>10.6</td>\n",
              "      <td>5</td>\n",
              "    </tr>\n",
              "    <tr>\n",
              "      <th>6</th>\n",
              "      <td>3.4</td>\n",
              "      <td>9.7</td>\n",
              "      <td>14.1</td>\n",
              "      <td>1</td>\n",
              "    </tr>\n",
              "    <tr>\n",
              "      <th>7</th>\n",
              "      <td>2.1</td>\n",
              "      <td>7.9</td>\n",
              "      <td>11.2</td>\n",
              "      <td>3</td>\n",
              "    </tr>\n",
              "  </tbody>\n",
              "</table>\n",
              "</div>"
            ],
            "text/plain": [
              "    X1   X2    X3  X4\n",
              "0  2.9  9.2  13.2   2\n",
              "1  2.4  8.7  11.5   3\n",
              "2  2.0  7.2  10.8   4\n",
              "3  2.3  8.5  12.3   2\n",
              "4  3.2  9.6  12.6   3\n",
              "5  1.9  6.8  10.6   5\n",
              "6  3.4  9.7  14.1   1\n",
              "7  2.1  7.9  11.2   3"
            ]
          },
          "metadata": {
            "tags": []
          },
          "execution_count": 4
        }
      ]
    },
    {
      "cell_type": "code",
      "metadata": {
        "colab": {
          "base_uri": "https://localhost:8080/",
          "height": 173
        },
        "id": "VJM05kDdQple",
        "outputId": "16018aef-1281-457d-cf8a-0779362fe29a"
      },
      "source": [
        "df.corr()"
      ],
      "execution_count": 5,
      "outputs": [
        {
          "output_type": "execute_result",
          "data": {
            "text/html": [
              "<div>\n",
              "<style scoped>\n",
              "    .dataframe tbody tr th:only-of-type {\n",
              "        vertical-align: middle;\n",
              "    }\n",
              "\n",
              "    .dataframe tbody tr th {\n",
              "        vertical-align: top;\n",
              "    }\n",
              "\n",
              "    .dataframe thead th {\n",
              "        text-align: right;\n",
              "    }\n",
              "</style>\n",
              "<table border=\"1\" class=\"dataframe\">\n",
              "  <thead>\n",
              "    <tr style=\"text-align: right;\">\n",
              "      <th></th>\n",
              "      <th>X1</th>\n",
              "      <th>X2</th>\n",
              "      <th>X3</th>\n",
              "      <th>X4</th>\n",
              "    </tr>\n",
              "  </thead>\n",
              "  <tbody>\n",
              "    <tr>\n",
              "      <th>X1</th>\n",
              "      <td>1.000000</td>\n",
              "      <td>0.938797</td>\n",
              "      <td>0.923911</td>\n",
              "      <td>-0.738843</td>\n",
              "    </tr>\n",
              "    <tr>\n",
              "      <th>X2</th>\n",
              "      <td>0.938797</td>\n",
              "      <td>1.000000</td>\n",
              "      <td>0.902582</td>\n",
              "      <td>-0.836397</td>\n",
              "    </tr>\n",
              "    <tr>\n",
              "      <th>X3</th>\n",
              "      <td>0.923911</td>\n",
              "      <td>0.902582</td>\n",
              "      <td>1.000000</td>\n",
              "      <td>-0.900861</td>\n",
              "    </tr>\n",
              "    <tr>\n",
              "      <th>X4</th>\n",
              "      <td>-0.738843</td>\n",
              "      <td>-0.836397</td>\n",
              "      <td>-0.900861</td>\n",
              "      <td>1.000000</td>\n",
              "    </tr>\n",
              "  </tbody>\n",
              "</table>\n",
              "</div>"
            ],
            "text/plain": [
              "          X1        X2        X3        X4\n",
              "X1  1.000000  0.938797  0.923911 -0.738843\n",
              "X2  0.938797  1.000000  0.902582 -0.836397\n",
              "X3  0.923911  0.902582  1.000000 -0.900861\n",
              "X4 -0.738843 -0.836397 -0.900861  1.000000"
            ]
          },
          "metadata": {
            "tags": []
          },
          "execution_count": 5
        }
      ]
    },
    {
      "cell_type": "code",
      "metadata": {
        "colab": {
          "base_uri": "https://localhost:8080/",
          "height": 265
        },
        "id": "4O5F_ua6Ppui",
        "outputId": "3726c2a5-7afc-45f7-b7ca-98cee813f8ba"
      },
      "source": [
        "plt.scatter(df['X1'], df['X4']);"
      ],
      "execution_count": 6,
      "outputs": [
        {
          "output_type": "display_data",
          "data": {
            "image/png": "[encoded data removed]",
            "text/plain": [
              "<Figure size 432x288 with 1 Axes>"
            ]
          },
          "metadata": {
            "tags": [],
            "needs_background": "light"
          }
        }
      ]
    },
    {
      "cell_type": "code",
      "metadata": {
        "colab": {
          "base_uri": "https://localhost:8080/",
          "height": 265
        },
        "id": "la-yHZzGQXRt",
        "outputId": "b5011033-4492-4616-bb5e-1880ff7d57bf"
      },
      "source": [
        "plt.scatter(df['X2'], df['X4']);"
      ],
      "execution_count": 7,
      "outputs": [
        {
          "output_type": "display_data",
          "data": {
            "image/png": "[encoded data removed]",
            "text/plain": [
              "<Figure size 432x288 with 1 Axes>"
            ]
          },
          "metadata": {
            "tags": [],
            "needs_background": "light"
          }
        }
      ]
    },
    {
      "cell_type": "code",
      "metadata": {
        "colab": {
          "base_uri": "https://localhost:8080/",
          "height": 265
        },
        "id": "4nGpLbeSQgvK",
        "outputId": "5bcd7202-f6b1-4c76-ba2e-a96737389e26"
      },
      "source": [
        "plt.scatter(df['X3'], df['X4']);"
      ],
      "execution_count": 8,
      "outputs": [
        {
          "output_type": "display_data",
          "data": {
            "image/png": "[encoded data removed]",
            "text/plain": [
              "<Figure size 432x288 with 1 Axes>"
            ]
          },
          "metadata": {
            "tags": [],
            "needs_background": "light"
          }
        }
      ]
    },
    {
      "cell_type": "code",
      "metadata": {
        "id": "j0JBqr6GQmpU"
      },
      "source": [
        "X = df[['X1', 'X2', 'X3']].values\n",
        "X1 = df['X1'].values\n",
        "X2 = df['X2'].values\n",
        "X3 = df['X3'].values\n",
        "Y = df['X4'].values"
      ],
      "execution_count": 9,
      "outputs": []
    },
    {
      "cell_type": "code",
      "metadata": {
        "id": "ediEK5pfRSAc"
      },
      "source": [
        "def fit(X, Y):\n",
        "    denominator = X.dot(X) - X.mean() * X.sum()\n",
        "    a = (X.dot(Y) - Y.mean() * X.sum()) / denominator\n",
        "    b = (Y.mean() * X.dot(X) - X.mean() * X.dot(Y)) / denominator\n",
        "\n",
        "    return a*X + b"
      ],
      "execution_count": 10,
      "outputs": []
    },
    {
      "cell_type": "code",
      "metadata": {
        "id": "Bg7ITV6JSNCV"
      },
      "source": [
        "Y1_hat = fit(X1, Y)\n",
        "Y2_hat = fit(X2, Y)\n",
        "Y3_hat = fit(X3, Y)"
      ],
      "execution_count": 11,
      "outputs": []
    },
    {
      "cell_type": "code",
      "metadata": {
        "id": "ZO-tCxhnTSpY"
      },
      "source": [
        "def get_r2(Y, Y_hat):\n",
        "    d1 = Y - Y_hat\n",
        "    d2 = Y - Y.mean()\n",
        "\n",
        "    return 1 - d1.dot(d1) / d2.dot(d2)"
      ],
      "execution_count": 12,
      "outputs": []
    },
    {
      "cell_type": "code",
      "metadata": {
        "colab": {
          "base_uri": "https://localhost:8080/"
        },
        "id": "7eRS6oMkVhL4",
        "outputId": "b83a355e-84d1-4c47-bf4a-8d279c8aec94"
      },
      "source": [
        "print(f\"The r_squared value for X1 is: {get_r2(Y, Y1_hat)}\")\n",
        "print(f\"The r_squared value for X2 is: {get_r2(Y, Y2_hat)}\")\n",
        "print(f\"The r_squared value for X3 is: {get_r2(Y, Y3_hat)}\")"
      ],
      "execution_count": 13,
      "outputs": [
        {
          "output_type": "stream",
          "text": [
            "The r_squared value for X1 is: 0.5458885740725541\n",
            "The r_squared value for X2 is: 0.6995600674280821\n",
            "The r_squared value for X3 is: 0.8115501225791628\n"
          ],
          "name": "stdout"
        }
      ]
    },
    {
      "cell_type": "code",
      "metadata": {
        "id": "O75qMBGPbM1K"
      },
      "source": [
        "N = X.shape[0]\n",
        "ones = np.array([np.ones(N)])\n",
        "Xb = np.concatenate((ones.T, X), axis=1)"
      ],
      "execution_count": 14,
      "outputs": []
    },
    {
      "cell_type": "code",
      "metadata": {
        "id": "GND_Y1zIVuqI"
      },
      "source": [
        "def fit_multi(Xb, Y):\n",
        "    return np.linalg.solve(Xb.T.dot(Xb), Xb.T.dot(Y))"
      ],
      "execution_count": 15,
      "outputs": []
    },
    {
      "cell_type": "code",
      "metadata": {
        "id": "9tAm7h_cXSxV"
      },
      "source": [
        "w = fit_multi(Xb, Y)"
      ],
      "execution_count": 16,
      "outputs": []
    },
    {
      "cell_type": "code",
      "metadata": {
        "id": "HoGDmtd5aiVR"
      },
      "source": [
        "def get_multi_r2(w, Xb, Y):\n",
        "    Y_hat = Xb.dot(w)\n",
        "    d1 = Y - Y_hat\n",
        "    d2 = Y - Y.mean()\n",
        "\n",
        "    return 1 - d1.dot(d1) / d2.dot(d2)"
      ],
      "execution_count": 17,
      "outputs": []
    },
    {
      "cell_type": "code",
      "metadata": {
        "colab": {
          "base_uri": "https://localhost:8080/"
        },
        "id": "afGtsyPlbZNK",
        "outputId": "4d4bddf3-66c7-46a9-d2df-0a5257ad2e79"
      },
      "source": [
        "print(f\"The overall r_squared value is: {get_multi_r2(w, Xb, Y)}\")"
      ],
      "execution_count": 18,
      "outputs": [
        {
          "output_type": "stream",
          "text": [
            "The overall r_squared value is: 0.945189297121372\n"
          ],
          "name": "stdout"
        }
      ]
    },
    {
      "cell_type": "code",
      "metadata": {
        "id": "X47xzkpKb8Yj"
      },
      "source": [
        ""
      ],
      "execution_count": 18,
      "outputs": []
    }
  ]
}