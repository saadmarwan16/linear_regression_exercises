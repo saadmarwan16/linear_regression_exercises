{
  "nbformat": 4,
  "nbformat_minor": 0,
  "metadata": {
    "colab": {
      "name": "hollywood_movies.ipynb",
      "provenance": [],
      "authorship_tag": "ABX9TyMAK9u9fwXaVg+hONxLECGI",
      "include_colab_link": true
    },
    "kernelspec": {
      "name": "python3",
      "display_name": "Python 3"
    },
    "language_info": {
      "name": "python"
    }
  },
  "cells": [
    {
      "cell_type": "markdown",
      "metadata": {
        "id": "view-in-github",
        "colab_type": "text"
      },
      "source": [
        "<a href=\"https://colab.research.google.com/github/saadmarwan16/linear_regression_exercises/blob/main/hollywood_movies.ipynb\" target=\"_parent\"><img src=\"https://colab.research.google.com/assets/colab-badge.svg\" alt=\"Open In Colab\"/></a>"
      ]
    },
    {
      "cell_type": "code",
      "metadata": {
        "id": "khFUFiitdEcu"
      },
      "source": [
        "# from google.colab import files\n",
        "# files.upload()"
      ],
      "execution_count": 1,
      "outputs": []
    },
    {
      "cell_type": "code",
      "metadata": {
        "id": "WyHxQHrRdfC4"
      },
      "source": [
        "import numpy as np\n",
        "from pandas import read_excel\n",
        "import matplotlib.pyplot as plt"
      ],
      "execution_count": 2,
      "outputs": []
    },
    {
      "cell_type": "code",
      "metadata": {
        "colab": {
          "base_uri": "https://localhost:8080/"
        },
        "id": "9kRkI6pQd0qD",
        "outputId": "6a4254a3-3a75-4610-c83e-1a2b281871d3"
      },
      "source": [
        "df = read_excel('mlr04.xls')\n",
        "df.info()"
      ],
      "execution_count": 3,
      "outputs": [
        {
          "output_type": "stream",
          "text": [
            "*** No CODEPAGE record, no encoding_override: will use 'ascii'\n",
            "<class 'pandas.core.frame.DataFrame'>\n",
            "RangeIndex: 10 entries, 0 to 9\n",
            "Data columns (total 4 columns):\n",
            " #   Column  Non-Null Count  Dtype  \n",
            "---  ------  --------------  -----  \n",
            " 0   X1      10 non-null     float64\n",
            " 1   X2      10 non-null     float64\n",
            " 2   X3      10 non-null     float64\n",
            " 3   X4      10 non-null     float64\n",
            "dtypes: float64(4)\n",
            "memory usage: 448.0 bytes\n"
          ],
          "name": "stdout"
        }
      ]
    },
    {
      "cell_type": "code",
      "metadata": {
        "colab": {
          "base_uri": "https://localhost:8080/",
          "height": 359
        },
        "id": "L75eDDARd5Pz",
        "outputId": "8b9f3915-672c-4394-b60d-45223ee9f812"
      },
      "source": [
        "df.head(10)"
      ],
      "execution_count": 4,
      "outputs": [
        {
          "output_type": "execute_result",
          "data": {
            "text/html": [
              "<div>\n",
              "<style scoped>\n",
              "    .dataframe tbody tr th:only-of-type {\n",
              "        vertical-align: middle;\n",
              "    }\n",
              "\n",
              "    .dataframe tbody tr th {\n",
              "        vertical-align: top;\n",
              "    }\n",
              "\n",
              "    .dataframe thead th {\n",
              "        text-align: right;\n",
              "    }\n",
              "</style>\n",
              "<table border=\"1\" class=\"dataframe\">\n",
              "  <thead>\n",
              "    <tr style=\"text-align: right;\">\n",
              "      <th></th>\n",
              "      <th>X1</th>\n",
              "      <th>X2</th>\n",
              "      <th>X3</th>\n",
              "      <th>X4</th>\n",
              "    </tr>\n",
              "  </thead>\n",
              "  <tbody>\n",
              "    <tr>\n",
              "      <th>0</th>\n",
              "      <td>85.099998</td>\n",
              "      <td>8.5</td>\n",
              "      <td>5.100000</td>\n",
              "      <td>4.700000</td>\n",
              "    </tr>\n",
              "    <tr>\n",
              "      <th>1</th>\n",
              "      <td>106.300003</td>\n",
              "      <td>12.9</td>\n",
              "      <td>5.800000</td>\n",
              "      <td>8.800000</td>\n",
              "    </tr>\n",
              "    <tr>\n",
              "      <th>2</th>\n",
              "      <td>50.200001</td>\n",
              "      <td>5.2</td>\n",
              "      <td>2.100000</td>\n",
              "      <td>15.100000</td>\n",
              "    </tr>\n",
              "    <tr>\n",
              "      <th>3</th>\n",
              "      <td>130.600006</td>\n",
              "      <td>10.7</td>\n",
              "      <td>8.399999</td>\n",
              "      <td>12.200000</td>\n",
              "    </tr>\n",
              "    <tr>\n",
              "      <th>4</th>\n",
              "      <td>54.799999</td>\n",
              "      <td>3.1</td>\n",
              "      <td>2.900000</td>\n",
              "      <td>10.600000</td>\n",
              "    </tr>\n",
              "    <tr>\n",
              "      <th>5</th>\n",
              "      <td>30.299999</td>\n",
              "      <td>3.5</td>\n",
              "      <td>1.200000</td>\n",
              "      <td>3.500000</td>\n",
              "    </tr>\n",
              "    <tr>\n",
              "      <th>6</th>\n",
              "      <td>79.400002</td>\n",
              "      <td>9.2</td>\n",
              "      <td>3.700000</td>\n",
              "      <td>9.700000</td>\n",
              "    </tr>\n",
              "    <tr>\n",
              "      <th>7</th>\n",
              "      <td>91.000000</td>\n",
              "      <td>9.0</td>\n",
              "      <td>7.600000</td>\n",
              "      <td>5.900000</td>\n",
              "    </tr>\n",
              "    <tr>\n",
              "      <th>8</th>\n",
              "      <td>135.399994</td>\n",
              "      <td>15.1</td>\n",
              "      <td>7.700000</td>\n",
              "      <td>20.799999</td>\n",
              "    </tr>\n",
              "    <tr>\n",
              "      <th>9</th>\n",
              "      <td>89.300003</td>\n",
              "      <td>10.2</td>\n",
              "      <td>4.500000</td>\n",
              "      <td>7.900000</td>\n",
              "    </tr>\n",
              "  </tbody>\n",
              "</table>\n",
              "</div>"
            ],
            "text/plain": [
              "           X1    X2        X3         X4\n",
              "0   85.099998   8.5  5.100000   4.700000\n",
              "1  106.300003  12.9  5.800000   8.800000\n",
              "2   50.200001   5.2  2.100000  15.100000\n",
              "3  130.600006  10.7  8.399999  12.200000\n",
              "4   54.799999   3.1  2.900000  10.600000\n",
              "5   30.299999   3.5  1.200000   3.500000\n",
              "6   79.400002   9.2  3.700000   9.700000\n",
              "7   91.000000   9.0  7.600000   5.900000\n",
              "8  135.399994  15.1  7.700000  20.799999\n",
              "9   89.300003  10.2  4.500000   7.900000"
            ]
          },
          "metadata": {
            "tags": []
          },
          "execution_count": 4
        }
      ]
    },
    {
      "cell_type": "code",
      "metadata": {
        "colab": {
          "base_uri": "https://localhost:8080/",
          "height": 173
        },
        "id": "J4tWkdAeeDKz",
        "outputId": "b28c7030-a541-414e-e09a-ea94dd0627f2"
      },
      "source": [
        "df.corr()"
      ],
      "execution_count": 5,
      "outputs": [
        {
          "output_type": "execute_result",
          "data": {
            "text/html": [
              "<div>\n",
              "<style scoped>\n",
              "    .dataframe tbody tr th:only-of-type {\n",
              "        vertical-align: middle;\n",
              "    }\n",
              "\n",
              "    .dataframe tbody tr th {\n",
              "        vertical-align: top;\n",
              "    }\n",
              "\n",
              "    .dataframe thead th {\n",
              "        text-align: right;\n",
              "    }\n",
              "</style>\n",
              "<table border=\"1\" class=\"dataframe\">\n",
              "  <thead>\n",
              "    <tr style=\"text-align: right;\">\n",
              "      <th></th>\n",
              "      <th>X1</th>\n",
              "      <th>X2</th>\n",
              "      <th>X3</th>\n",
              "      <th>X4</th>\n",
              "    </tr>\n",
              "  </thead>\n",
              "  <tbody>\n",
              "    <tr>\n",
              "      <th>X1</th>\n",
              "      <td>1.000000</td>\n",
              "      <td>0.917445</td>\n",
              "      <td>0.929968</td>\n",
              "      <td>0.474691</td>\n",
              "    </tr>\n",
              "    <tr>\n",
              "      <th>X2</th>\n",
              "      <td>0.917445</td>\n",
              "      <td>1.000000</td>\n",
              "      <td>0.789958</td>\n",
              "      <td>0.429133</td>\n",
              "    </tr>\n",
              "    <tr>\n",
              "      <th>X3</th>\n",
              "      <td>0.929968</td>\n",
              "      <td>0.789958</td>\n",
              "      <td>1.000000</td>\n",
              "      <td>0.298761</td>\n",
              "    </tr>\n",
              "    <tr>\n",
              "      <th>X4</th>\n",
              "      <td>0.474691</td>\n",
              "      <td>0.429133</td>\n",
              "      <td>0.298761</td>\n",
              "      <td>1.000000</td>\n",
              "    </tr>\n",
              "  </tbody>\n",
              "</table>\n",
              "</div>"
            ],
            "text/plain": [
              "          X1        X2        X3        X4\n",
              "X1  1.000000  0.917445  0.929968  0.474691\n",
              "X2  0.917445  1.000000  0.789958  0.429133\n",
              "X3  0.929968  0.789958  1.000000  0.298761\n",
              "X4  0.474691  0.429133  0.298761  1.000000"
            ]
          },
          "metadata": {
            "tags": []
          },
          "execution_count": 5
        }
      ]
    },
    {
      "cell_type": "code",
      "metadata": {
        "id": "KwHEGKCPeGR6"
      },
      "source": [
        "X = df[['X1', 'X2', 'X3']].values\n",
        "Y = df['X4'].values"
      ],
      "execution_count": 6,
      "outputs": []
    },
    {
      "cell_type": "code",
      "metadata": {
        "id": "rk0bmn1ZegsO"
      },
      "source": [
        "N = X.shape[0]\n",
        "ones = np.array([np.ones(N)])"
      ],
      "execution_count": 7,
      "outputs": []
    },
    {
      "cell_type": "code",
      "metadata": {
        "id": "62Dwa6_Zet66"
      },
      "source": [
        "Xb = np.concatenate((ones.T, X), axis=1)"
      ],
      "execution_count": 8,
      "outputs": []
    },
    {
      "cell_type": "code",
      "metadata": {
        "id": "Fxd0TiUbe2x3"
      },
      "source": [
        "def fit(Xb, Y):\n",
        "    return np.linalg.solve(Xb.T.dot(Xb), Xb.T.dot(Y))"
      ],
      "execution_count": 9,
      "outputs": []
    },
    {
      "cell_type": "code",
      "metadata": {
        "id": "hUnbRuAzfEce"
      },
      "source": [
        "w = fit(Xb, Y)"
      ],
      "execution_count": 10,
      "outputs": []
    },
    {
      "cell_type": "code",
      "metadata": {
        "id": "s638D13SfP-1"
      },
      "source": [
        "def get_r2(w, Xb, Y):\n",
        "    Y_hat = Xb.dot(w)\n",
        "\n",
        "    d1 = Y - Y_hat\n",
        "    d2 = Y - Y.mean()\n",
        "\n",
        "    return 1 - d1.dot(d1) / d2.dot(d2)"
      ],
      "execution_count": 11,
      "outputs": []
    },
    {
      "cell_type": "code",
      "metadata": {
        "colab": {
          "base_uri": "https://localhost:8080/"
        },
        "id": "oR0qFl1mf9tZ",
        "outputId": "9c2bc7bb-927c-4814-df1e-dc2fafe7c5dd"
      },
      "source": [
        "print(f\"The r_squared of values of the model is: {get_r2(w, Xb, Y)}\")"
      ],
      "execution_count": 12,
      "outputs": [
        {
          "output_type": "stream",
          "text": [
            "The r_squared of values of the model is: 0.4175116634202882\n"
          ],
          "name": "stdout"
        }
      ]
    },
    {
      "cell_type": "code",
      "metadata": {
        "id": "fHoPRXsmgEB0"
      },
      "source": [
        ""
      ],
      "execution_count": 12,
      "outputs": []
    }
  ]
}