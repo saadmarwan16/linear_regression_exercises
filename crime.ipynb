{
  "nbformat": 4,
  "nbformat_minor": 0,
  "metadata": {
    "colab": {
      "name": "crime.ipynb",
      "provenance": [],
      "authorship_tag": "ABX9TyNO4r4FXz32KWY7jhgJ3oTB",
      "include_colab_link": true
    },
    "kernelspec": {
      "name": "python3",
      "display_name": "Python 3"
    },
    "language_info": {
      "name": "python"
    }
  },
  "cells": [
    {
      "cell_type": "markdown",
      "metadata": {
        "id": "view-in-github",
        "colab_type": "text"
      },
      "source": [
        "<a href=\"https://colab.research.google.com/github/saadmarwan16/linear_regression_exercises/blob/main/crime.ipynb\" target=\"_parent\"><img src=\"https://colab.research.google.com/assets/colab-badge.svg\" alt=\"Open In Colab\"/></a>"
      ]
    },
    {
      "cell_type": "code",
      "metadata": {
        "id": "lxXkLK_c2t7D"
      },
      "source": [
        "# from google.colab import files\n",
        "# files.upload()"
      ],
      "execution_count": 1,
      "outputs": []
    },
    {
      "cell_type": "code",
      "metadata": {
        "id": "dbGE60oe3Hn7"
      },
      "source": [
        "import numpy as np\n",
        "from pandas import read_excel\n",
        "import matplotlib.pyplot as plt"
      ],
      "execution_count": 2,
      "outputs": []
    },
    {
      "cell_type": "code",
      "metadata": {
        "colab": {
          "base_uri": "https://localhost:8080/"
        },
        "id": "7EkmX8Hu3sSv",
        "outputId": "758a6466-9b53-4f7d-e849-284d91c2435f"
      },
      "source": [
        "df = read_excel('mlr06.xls')\n",
        "df.info()"
      ],
      "execution_count": 3,
      "outputs": [
        {
          "output_type": "stream",
          "text": [
            "*** No CODEPAGE record, no encoding_override: will use 'ascii'\n",
            "<class 'pandas.core.frame.DataFrame'>\n",
            "RangeIndex: 50 entries, 0 to 49\n",
            "Data columns (total 7 columns):\n",
            " #   Column  Non-Null Count  Dtype\n",
            "---  ------  --------------  -----\n",
            " 0   X1      50 non-null     int64\n",
            " 1   X2      50 non-null     int64\n",
            " 2   X3      50 non-null     int64\n",
            " 3   X4      50 non-null     int64\n",
            " 4   X5      50 non-null     int64\n",
            " 5   X6      50 non-null     int64\n",
            " 6   X7      50 non-null     int64\n",
            "dtypes: int64(7)\n",
            "memory usage: 2.9 KB\n"
          ],
          "name": "stdout"
        }
      ]
    },
    {
      "cell_type": "code",
      "metadata": {
        "colab": {
          "base_uri": "https://localhost:8080/",
          "height": 204
        },
        "id": "rC6e49uH35Wl",
        "outputId": "bfd25a7f-2f68-44a8-e712-0965557d60ce"
      },
      "source": [
        "df.head()"
      ],
      "execution_count": 4,
      "outputs": [
        {
          "output_type": "execute_result",
          "data": {
            "text/html": [
              "<div>\n",
              "<style scoped>\n",
              "    .dataframe tbody tr th:only-of-type {\n",
              "        vertical-align: middle;\n",
              "    }\n",
              "\n",
              "    .dataframe tbody tr th {\n",
              "        vertical-align: top;\n",
              "    }\n",
              "\n",
              "    .dataframe thead th {\n",
              "        text-align: right;\n",
              "    }\n",
              "</style>\n",
              "<table border=\"1\" class=\"dataframe\">\n",
              "  <thead>\n",
              "    <tr style=\"text-align: right;\">\n",
              "      <th></th>\n",
              "      <th>X1</th>\n",
              "      <th>X2</th>\n",
              "      <th>X3</th>\n",
              "      <th>X4</th>\n",
              "      <th>X5</th>\n",
              "      <th>X6</th>\n",
              "      <th>X7</th>\n",
              "    </tr>\n",
              "  </thead>\n",
              "  <tbody>\n",
              "    <tr>\n",
              "      <th>0</th>\n",
              "      <td>478</td>\n",
              "      <td>184</td>\n",
              "      <td>40</td>\n",
              "      <td>74</td>\n",
              "      <td>11</td>\n",
              "      <td>31</td>\n",
              "      <td>20</td>\n",
              "    </tr>\n",
              "    <tr>\n",
              "      <th>1</th>\n",
              "      <td>494</td>\n",
              "      <td>213</td>\n",
              "      <td>32</td>\n",
              "      <td>72</td>\n",
              "      <td>11</td>\n",
              "      <td>43</td>\n",
              "      <td>18</td>\n",
              "    </tr>\n",
              "    <tr>\n",
              "      <th>2</th>\n",
              "      <td>643</td>\n",
              "      <td>347</td>\n",
              "      <td>57</td>\n",
              "      <td>70</td>\n",
              "      <td>18</td>\n",
              "      <td>16</td>\n",
              "      <td>16</td>\n",
              "    </tr>\n",
              "    <tr>\n",
              "      <th>3</th>\n",
              "      <td>341</td>\n",
              "      <td>565</td>\n",
              "      <td>31</td>\n",
              "      <td>71</td>\n",
              "      <td>11</td>\n",
              "      <td>25</td>\n",
              "      <td>19</td>\n",
              "    </tr>\n",
              "    <tr>\n",
              "      <th>4</th>\n",
              "      <td>773</td>\n",
              "      <td>327</td>\n",
              "      <td>67</td>\n",
              "      <td>72</td>\n",
              "      <td>9</td>\n",
              "      <td>29</td>\n",
              "      <td>24</td>\n",
              "    </tr>\n",
              "  </tbody>\n",
              "</table>\n",
              "</div>"
            ],
            "text/plain": [
              "    X1   X2  X3  X4  X5  X6  X7\n",
              "0  478  184  40  74  11  31  20\n",
              "1  494  213  32  72  11  43  18\n",
              "2  643  347  57  70  18  16  16\n",
              "3  341  565  31  71  11  25  19\n",
              "4  773  327  67  72   9  29  24"
            ]
          },
          "metadata": {
            "tags": []
          },
          "execution_count": 4
        }
      ]
    },
    {
      "cell_type": "code",
      "metadata": {
        "colab": {
          "base_uri": "https://localhost:8080/",
          "height": 266
        },
        "id": "4q-MNUad4Vs2",
        "outputId": "9eff0172-8502-49da-9f82-1dc6c1d521c8"
      },
      "source": [
        "df.corr()"
      ],
      "execution_count": 5,
      "outputs": [
        {
          "output_type": "execute_result",
          "data": {
            "text/html": [
              "<div>\n",
              "<style scoped>\n",
              "    .dataframe tbody tr th:only-of-type {\n",
              "        vertical-align: middle;\n",
              "    }\n",
              "\n",
              "    .dataframe tbody tr th {\n",
              "        vertical-align: top;\n",
              "    }\n",
              "\n",
              "    .dataframe thead th {\n",
              "        text-align: right;\n",
              "    }\n",
              "</style>\n",
              "<table border=\"1\" class=\"dataframe\">\n",
              "  <thead>\n",
              "    <tr style=\"text-align: right;\">\n",
              "      <th></th>\n",
              "      <th>X1</th>\n",
              "      <th>X2</th>\n",
              "      <th>X3</th>\n",
              "      <th>X4</th>\n",
              "      <th>X5</th>\n",
              "      <th>X6</th>\n",
              "      <th>X7</th>\n",
              "    </tr>\n",
              "  </thead>\n",
              "  <tbody>\n",
              "    <tr>\n",
              "      <th>X1</th>\n",
              "      <td>1.000000</td>\n",
              "      <td>0.756505</td>\n",
              "      <td>0.533198</td>\n",
              "      <td>-0.135459</td>\n",
              "      <td>0.322519</td>\n",
              "      <td>-0.175224</td>\n",
              "      <td>-0.026283</td>\n",
              "    </tr>\n",
              "    <tr>\n",
              "      <th>X2</th>\n",
              "      <td>0.756505</td>\n",
              "      <td>1.000000</td>\n",
              "      <td>0.509339</td>\n",
              "      <td>-0.184445</td>\n",
              "      <td>0.291031</td>\n",
              "      <td>-0.199070</td>\n",
              "      <td>-0.045570</td>\n",
              "    </tr>\n",
              "    <tr>\n",
              "      <th>X3</th>\n",
              "      <td>0.533198</td>\n",
              "      <td>0.509339</td>\n",
              "      <td>1.000000</td>\n",
              "      <td>0.120265</td>\n",
              "      <td>0.311526</td>\n",
              "      <td>-0.277475</td>\n",
              "      <td>0.124502</td>\n",
              "    </tr>\n",
              "    <tr>\n",
              "      <th>X4</th>\n",
              "      <td>-0.135459</td>\n",
              "      <td>-0.184445</td>\n",
              "      <td>0.120265</td>\n",
              "      <td>1.000000</td>\n",
              "      <td>-0.537162</td>\n",
              "      <td>0.182364</td>\n",
              "      <td>0.681072</td>\n",
              "    </tr>\n",
              "    <tr>\n",
              "      <th>X5</th>\n",
              "      <td>0.322519</td>\n",
              "      <td>0.291031</td>\n",
              "      <td>0.311526</td>\n",
              "      <td>-0.537162</td>\n",
              "      <td>1.000000</td>\n",
              "      <td>-0.626953</td>\n",
              "      <td>-0.513958</td>\n",
              "    </tr>\n",
              "    <tr>\n",
              "      <th>X6</th>\n",
              "      <td>-0.175224</td>\n",
              "      <td>-0.199070</td>\n",
              "      <td>-0.277475</td>\n",
              "      <td>0.182364</td>\n",
              "      <td>-0.626953</td>\n",
              "      <td>1.000000</td>\n",
              "      <td>0.591663</td>\n",
              "    </tr>\n",
              "    <tr>\n",
              "      <th>X7</th>\n",
              "      <td>-0.026283</td>\n",
              "      <td>-0.045570</td>\n",
              "      <td>0.124502</td>\n",
              "      <td>0.681072</td>\n",
              "      <td>-0.513958</td>\n",
              "      <td>0.591663</td>\n",
              "      <td>1.000000</td>\n",
              "    </tr>\n",
              "  </tbody>\n",
              "</table>\n",
              "</div>"
            ],
            "text/plain": [
              "          X1        X2        X3        X4        X5        X6        X7\n",
              "X1  1.000000  0.756505  0.533198 -0.135459  0.322519 -0.175224 -0.026283\n",
              "X2  0.756505  1.000000  0.509339 -0.184445  0.291031 -0.199070 -0.045570\n",
              "X3  0.533198  0.509339  1.000000  0.120265  0.311526 -0.277475  0.124502\n",
              "X4 -0.135459 -0.184445  0.120265  1.000000 -0.537162  0.182364  0.681072\n",
              "X5  0.322519  0.291031  0.311526 -0.537162  1.000000 -0.626953 -0.513958\n",
              "X6 -0.175224 -0.199070 -0.277475  0.182364 -0.626953  1.000000  0.591663\n",
              "X7 -0.026283 -0.045570  0.124502  0.681072 -0.513958  0.591663  1.000000"
            ]
          },
          "metadata": {
            "tags": []
          },
          "execution_count": 5
        }
      ]
    },
    {
      "cell_type": "code",
      "metadata": {
        "id": "EZqjqyZe5dk6"
      },
      "source": [
        "def fit(X, Y):\n",
        "    return np.linalg.solve(X.T.dot(X), X.T.dot(Y))"
      ],
      "execution_count": 6,
      "outputs": []
    },
    {
      "cell_type": "code",
      "metadata": {
        "id": "4wFKcBhyDp8C"
      },
      "source": [
        "def get_r2(Y, Yhat):\n",
        "    d1 = Y - Yhat\n",
        "    d2 = Y - Y.mean()\n",
        "\n",
        "    return 1 - d1.dot(d1) / d2.dot(d2)"
      ],
      "execution_count": 7,
      "outputs": []
    },
    {
      "cell_type": "code",
      "metadata": {
        "id": "h6zM32vs4YLx"
      },
      "source": [
        "X = df[['X2', 'X3', 'X4', 'X5', 'X6', 'X7']]\n",
        "Y = df['X1']\n",
        "N = df.shape[0]\n",
        "ones = np.array([np.ones(N)])\n",
        "Xb = np.concatenate((ones.T, X), axis=1)"
      ],
      "execution_count": 8,
      "outputs": []
    },
    {
      "cell_type": "code",
      "metadata": {
        "id": "y7EBxyp-4-gO"
      },
      "source": [
        "w = fit(Xb, Y)\n",
        "Yhat = Xb.dot(w)"
      ],
      "execution_count": 9,
      "outputs": []
    },
    {
      "cell_type": "code",
      "metadata": {
        "colab": {
          "base_uri": "https://localhost:8080/"
        },
        "id": "SsnAXHK2EhVq",
        "outputId": "9b598128-8292-478b-fa56-8b80b2b2afc3"
      },
      "source": [
        "print(f\"The r_squared value is: {get_r2(Y, Yhat)}\")"
      ],
      "execution_count": 10,
      "outputs": [
        {
          "output_type": "stream",
          "text": [
            "The r_squared value is: 0.6131606872679716\n"
          ],
          "name": "stdout"
        }
      ]
    },
    {
      "cell_type": "code",
      "metadata": {
        "id": "wK7L2Ji0FB8-"
      },
      "source": [
        ""
      ],
      "execution_count": 10,
      "outputs": []
    }
  ]
}